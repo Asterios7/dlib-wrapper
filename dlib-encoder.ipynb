{
 "cells": [
  {
   "cell_type": "code",
   "execution_count": null,
   "metadata": {},
   "outputs": [],
   "source": [
    "import pandas as pd\n",
    "import numpy as np\n",
    "import matplotlib.pyplot as plt\n",
    "from dlibWrapper import dlibWrapper, load_image_from_web_link"
   ]
  },
  {
   "cell_type": "code",
   "execution_count": null,
   "metadata": {},
   "outputs": [],
   "source": [
    "def euclidean_distance(vec1, vec2):\n",
    "    return np.linalg.norm(vec1 - vec2)\n",
    "\n",
    "dl = dlibWrapper()\n",
    "\n",
    "def load_and_encode(image_url):\n",
    "    img = load_image_from_web_link(image_url)\n",
    "    embeddings = dl.detect_and_encode_faces(img)\n",
    "    return embeddings[0]"
   ]
  },
  {
   "cell_type": "code",
   "execution_count": null,
   "metadata": {},
   "outputs": [],
   "source": [
    "df = pd.read_parquet(\"image_links.parquet\")\n",
    "df = df.drop_duplicates('links').reset_index(drop=True)\n",
    "filter_df = df.iloc[:20]"
   ]
  },
  {
   "cell_type": "code",
   "execution_count": null,
   "metadata": {},
   "outputs": [],
   "source": [
    "filter_df.loc[:, 'embeddings'] = filter_df.loc[:, 'image_links'].apply(lambda x: load_and_encode(x))"
   ]
  },
  {
   "cell_type": "code",
   "execution_count": null,
   "metadata": {},
   "outputs": [],
   "source": [
    "img1 = load_image_from_web_link(\"https://img.a.transfermarkt.technology/portrait/big/198589-1602167259.png?lm=1\")\n",
    "img2 = load_image_from_web_link(\"https://t1.gstatic.com/licensed-image?q=tbn:ANd9GcSKKBbXzUcl6REIpRLXbzXpqkyzEtvLEYfz46uQGH6OsJZe1xNNAXD68kDGPlqOT0oN\")"
   ]
  },
  {
   "cell_type": "code",
   "execution_count": null,
   "metadata": {},
   "outputs": [],
   "source": [
    "boxes1 = dl.face_detector(img1)\n",
    "boxes2 = dl.face_detector(img2)"
   ]
  },
  {
   "cell_type": "code",
   "execution_count": null,
   "metadata": {},
   "outputs": [],
   "source": [
    "img_shapes1 = dl.shape_predictor(img1, boxes1)\n",
    "img_shapes2 = dl.shape_predictor(img2, boxes2)"
   ]
  },
  {
   "cell_type": "code",
   "execution_count": null,
   "metadata": {},
   "outputs": [],
   "source": [
    "aligned_faces1 = dl.face_aligning(img1, img_shapes1)\n",
    "aligned_faces2 = dl.face_aligning(img2, img_shapes2)\n"
   ]
  },
  {
   "cell_type": "code",
   "execution_count": null,
   "metadata": {},
   "outputs": [],
   "source": [
    "fig, axes = plt.subplots(1, 2) \n",
    "axes[0].imshow(aligned_faces1[0])\n",
    "axes[1].imshow(aligned_faces2[0])"
   ]
  },
  {
   "cell_type": "code",
   "execution_count": null,
   "metadata": {},
   "outputs": [],
   "source": [
    "embeddings1 = dl.face_encoder(aligned_faces1)\n",
    "embeddings2 = dl.face_encoder(aligned_faces2)\n",
    "euclidean_distance(embeddings1[0], embeddings2[0])"
   ]
  },
  {
   "cell_type": "code",
   "execution_count": null,
   "metadata": {},
   "outputs": [],
   "source": [
    "filter_df.loc[:, 'euclidean_distance'] = filter_df.loc[:, 'embeddings'].apply(lambda x: euclidean_distance(embeddings2[0], x))\n",
    "filter_df[['name', 'euclidean_distance']].sort_values('euclidean_distance')"
   ]
  }
 ],
 "metadata": {
  "kernelspec": {
   "display_name": "pytorch",
   "language": "python",
   "name": "python3"
  },
  "language_info": {
   "codemirror_mode": {
    "name": "ipython",
    "version": 3
   },
   "file_extension": ".py",
   "mimetype": "text/x-python",
   "name": "python",
   "nbconvert_exporter": "python",
   "pygments_lexer": "ipython3",
   "version": "3.10.13"
  }
 },
 "nbformat": 4,
 "nbformat_minor": 2
}
